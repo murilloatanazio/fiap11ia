{
 "cells": [
  {
   "cell_type": "raw",
   "metadata": {},
   "source": [
    "A Análise de séries temporais é bastante aplicada em diversos setores: negócios, engenharia, financeiro, saúde pública, etc. Pandas oferece uma vasta gama de ferramentas úteis para a realização desse trabalho, podendo transformar, analisar e visualizar os dados em qualquer nível de granularidade. De modo simples, Time Series é qualquer conjunto de dados em que os valores são mensurados em diferentes pontos no tempo. Muitas séries temporais são uniformemente espaçadas a uma frequencia específica (medidas do tempo de hora em hora, contagem diárias de visitas em um site), mas existem aquelas que podem ser irregularmente espaçadas e esporádicas (chamadas de emergência da polícia). O Pandas oferece ferramentas para lidar de modo igual com ambos os tipos de séries."
   ]
  },
  {
   "cell_type": "markdown",
   "metadata": {},
   "source": [
    "Aqui, vamos usar um conjunto de dados sobre consumo de energia e vamos entender alguns tópicos:\n",
    "\n",
    "-  indexação baseada em tempo\n",
    "-  visualização de dados de séries temporal\n",
    "-  sazonalidade\n",
    "-  frequências\n",
    "-  reamostragem\n",
    "-  Rolling Windows\n",
    "-  tendências"
   ]
  },
  {
   "cell_type": "raw",
   "metadata": {},
   "source": [
    "Vamos utilizar o conjunto de dados Open Power System Data, da Alemanha. O conjunto de dados inclui consumo de energia, produção de energia eólica e produção de energia renovável entre os anos de 2006 e 2017."
   ]
  },
  {
   "cell_type": "markdown",
   "metadata": {},
   "source": [
    "Assim como em toda análise, o intuito é obter informações relevantes a partir dos dados. Para tanto, é preciso fazer as corretas perguntas que irão direcionar toda a jornada da análise. No nosso caso, temos essas perguntas:\n",
    "\n",
    "1) Quando o consumo de eletricidade é tipicamente alto e tipicamente baixo?\n",
    "\n",
    "2) Como a produção de energia, seja solar ou eólica, varia de acordo com as estações do ano?\n",
    "\n",
    "3) Quais são as tendências de longo prazo em consumo de energia, produção solar e produção eólica?\n",
    "\n",
    "4) Como a produção eólica e solar são comparadas com o consumo de energia e como essa taxa varia em relação ao tempo?"
   ]
  },
  {
   "cell_type": "markdown",
   "metadata": {},
   "source": [
    "## Leitura e breve análise dos dados"
   ]
  },
  {
   "cell_type": "code",
   "execution_count": null,
   "metadata": {},
   "outputs": [],
   "source": [
    "import pandas as pd\n",
    "import matplotlib.pyplot as plt\n",
    "import seaborn as sns\n",
    "\n",
    "# Use seaborn style defaults and set the default figure size\n",
    "sns.set(rc={'figure.figsize':(11, 4)})"
   ]
  },
  {
   "cell_type": "code",
   "execution_count": null,
   "metadata": {},
   "outputs": [],
   "source": [
    "from google.colab import drive\n",
    "drive.mount('/content/drive')\n",
    "#sempre olhar o conjunto de dados com antenção\n",
    "opsd_daily = pd.read_csv('/content/drive/My Drive/datasets/opsd_germany_daily.csv')\n",
    "opsd_daily.head()"
   ]
  },
  {
   "cell_type": "code",
   "execution_count": null,
   "metadata": {},
   "outputs": [],
   "source": [
    "opsd_daily = pd.read_csv('bases/opsd_germany_daily.csv')\n",
    "opsd_daily.shape"
   ]
  },
  {
   "cell_type": "code",
   "execution_count": null,
   "metadata": {},
   "outputs": [],
   "source": [
    "opsd_daily.head()"
   ]
  },
  {
   "cell_type": "code",
   "execution_count": null,
   "metadata": {},
   "outputs": [],
   "source": [
    "opsd_daily.tail(3) #tail mostra as n últimas linhas"
   ]
  },
  {
   "cell_type": "code",
   "execution_count": null,
   "metadata": {},
   "outputs": [],
   "source": [
    "opsd_daily.dtypes"
   ]
  },
  {
   "cell_type": "code",
   "execution_count": null,
   "metadata": {},
   "outputs": [],
   "source": [
    "opsd_daily.info()"
   ]
  },
  {
   "cell_type": "markdown",
   "metadata": {},
   "source": [
    "podemos ver que a coluna Date é um objeto, indicando que o Pandas a trata como texto. Precisamos convertê-la para valores date/time."
   ]
  },
  {
   "cell_type": "code",
   "execution_count": null,
   "metadata": {},
   "outputs": [],
   "source": [
    "opsd_daily['Date'] = pd.to_datetime(opsd_daily['Date'])\n",
    "opsd_daily.dtypes"
   ]
  },
  {
   "cell_type": "raw",
   "metadata": {},
   "source": [
    "Agora que o tipo está correto, precisamos configurar a data como index do DataFrame."
   ]
  },
  {
   "cell_type": "code",
   "execution_count": null,
   "metadata": {},
   "outputs": [],
   "source": [
    "opsd_daily = opsd_daily.set_index('Date')\n",
    "opsd_daily.head(3)"
   ]
  },
  {
   "cell_type": "raw",
   "metadata": {},
   "source": [
    "Entretanto, podemos consolidar todos os passos vistos até agora numa única linha, quando fazemos a leitura do arquivo. opsd_daily = pd.read_csv('opsd_germany_daily.csv', index_col=0, parse_dates=True). Com o DataFrame pronto, podemos começar a analisar a serie temporal. A partir de um objeto datetime, podemos recuperar os componentes individuais (ano, mês e dia). Vamos fazer isso e adicionar cada um deles como coluna no nosso DataFrame."
   ]
  },
  {
   "cell_type": "code",
   "execution_count": null,
   "metadata": {},
   "outputs": [],
   "source": [
    "opsd_daily['Year'] = opsd_daily.index.year\n",
    "opsd_daily['Month'] = opsd_daily.index.month\n",
    "opsd_daily['Weekday Name'] = opsd_daily.index.weekday_name"
   ]
  },
  {
   "cell_type": "code",
   "execution_count": null,
   "metadata": {},
   "outputs": [],
   "source": [
    "#Mostrando 5 linhas aleatórias\n",
    "opsd_daily.sample(5, random_state=0) #random_state = seed"
   ]
  },
  {
   "cell_type": "markdown",
   "metadata": {},
   "source": [
    "## Indexação baseada em tempo"
   ]
  },
  {
   "cell_type": "raw",
   "metadata": {},
   "source": [
    "Pandas oferece uma forma simples e intuitiva de selecionar porções de dados baseados no index datetime."
   ]
  },
  {
   "cell_type": "code",
   "execution_count": null,
   "metadata": {},
   "outputs": [],
   "source": [
    "# selecionando dados referente a um único dia\n",
    "opsd_daily.loc['2017-08-10']"
   ]
  },
  {
   "cell_type": "code",
   "execution_count": null,
   "metadata": {},
   "outputs": [],
   "source": [
    "# selecionando dados referente a um bloco de dias\n",
    "opsd_daily.loc['2014-01-20':'2014-01-22']"
   ]
  },
  {
   "cell_type": "code",
   "execution_count": null,
   "metadata": {},
   "outputs": [],
   "source": [
    "# selecionando dados usando string parcial como indexação\n",
    "#opsd_daily.loc['2006'] seleciona todo o ano de 2006\n",
    "opsd_daily.loc['2012-02'] # seleciona o mês de fevereiro de 2012"
   ]
  },
  {
   "cell_type": "markdown",
   "metadata": {},
   "source": [
    "## Visualizando dados de séries temporais"
   ]
  },
  {
   "cell_type": "raw",
   "metadata": {},
   "source": [
    "Com Pandas e Matplotlib, podemos facilmente visuzliar nossos dados. Vamos visualizar um gráfico de linha do consumo diário de eletricidade na Alemanha"
   ]
  },
  {
   "cell_type": "code",
   "execution_count": null,
   "metadata": {},
   "outputs": [],
   "source": [
    "opsd_daily['Consumption'].plot(linewidth=0.5);"
   ]
  },
  {
   "cell_type": "raw",
   "metadata": {},
   "source": [
    "Podemos ter alguma noção acerca dos dados, entretanto, como há muitos pontos, o gráfico de linha é super populado e difícil de ler. Vamos plotar os dados como pontos (scatter) e olhar para as séries referentes à energia solar e eólica."
   ]
  },
  {
   "cell_type": "code",
   "execution_count": null,
   "metadata": {},
   "outputs": [],
   "source": [
    "cols_plot = ['Consumption', 'Solar', 'Wind']\n",
    "axes = opsd_daily[cols_plot].plot(marker='.', alpha=0.5, linestyle='None', figsize=(11, 9), subplots=True)\n",
    "for ax in axes:\n",
    "    ax.set_ylabel('Daily Totals (GWh)')"
   ]
  },
  {
   "cell_type": "markdown",
   "metadata": {},
   "source": [
    "Podemos tirar algumas conclusões:\n",
    "\n",
    "    > o consumo de energia é maior no inverno (aquecedor e iluminação) e menor no verão\n",
    "    > é possível observar dois agrupamentos em relação ao consumo: um em azul mais escuro e o outro em azul mais claro. Vamos investigar isso melhor depois\n",
    "    > a produção de energia solar é maior no verão e menor no inverno\n",
    "    > a produção de energia eólica é maior no inverno e menor no verão\n",
    "    > há uma forte tendência de crescimento na produção de energia eólica ao longo dos anos"
   ]
  },
  {
   "cell_type": "raw",
   "metadata": {},
   "source": [
    "Todos os três gráficos apresentam uma periodicidade, na qual um padrão se repete em tempos de intervalo regulares. Vamos plotar a série de um único ano para investigar melhor"
   ]
  },
  {
   "cell_type": "code",
   "execution_count": null,
   "metadata": {},
   "outputs": [],
   "source": [
    "ax = opsd_daily.loc['2017', 'Consumption'].plot()\n",
    "ax.set_ylabel('Daily Consumption (GWh)');"
   ]
  },
  {
   "cell_type": "raw",
   "metadata": {},
   "source": [
    "Podemos observar uma periodicidade semanal e, além disso, há uma queda drástica no consumo de energia entre dezembro e janeiro, devido aos feriados e férias. Vamos granular mais e olhar só Janeiro e Fevereiro"
   ]
  },
  {
   "cell_type": "code",
   "execution_count": null,
   "metadata": {},
   "outputs": [],
   "source": [
    "ax = opsd_daily.loc['2017-01':'2017-02', 'Consumption'].plot(marker='o', linestyle='-')\n",
    "ax.set_ylabel('Daily Consumption (GWh)');"
   ]
  },
  {
   "cell_type": "raw",
   "metadata": {},
   "source": [
    "De fato, o consumo é maior durante a semana e menor nos fins de semana"
   ]
  },
  {
   "cell_type": "markdown",
   "metadata": {},
   "source": [
    "## Sazonalidade"
   ]
  },
  {
   "cell_type": "raw",
   "metadata": {},
   "source": [
    "Vamos explorar a sazonalidade dos dados usando box plots para agrupar os dados por diferentes períodos de tempo e mostrar a distribuição para cada grupo"
   ]
  },
  {
   "cell_type": "code",
   "execution_count": null,
   "metadata": {},
   "outputs": [],
   "source": [
    "fig, axes = plt.subplots(3, 1, figsize=(11, 10), sharex=True)\n",
    "for name, ax in zip(['Consumption', 'Solar', 'Wind'], axes):\n",
    "    sns.boxplot(data=opsd_daily, x='Month', y=name, ax=ax)\n",
    "    ax.set_ylabel('GWh')\n",
    "    ax.set_title(name)\n",
    "\n",
    "    # Remove the automatic x-axis label from all but the bottom subplot\n",
    "    if ax != axes[-1]:\n",
    "        ax.set_xlabel('')"
   ]
  },
  {
   "cell_type": "raw",
   "metadata": {},
   "source": [
    "Isso confirma a sazonalidade anual que vimos nos plots anteriores e provê alguns insights adicionais: \n",
    "    > embora o consumo de eletricidade é geralmente maior no inverno e menor no verão, a mediana e os dois quartis menores são menores em dezembro e janeiro comparado com novembro e fevereiro, devido ao comércio estar fechado nos feriados. \n",
    "    > a produção de energia solar e eólica exibem uma sazonalidade anual, mas a distribuição para energia eólica apresenta muito mais outliers, refletindo os efeitos de tempestasdes e ventos fortes. \n",
    "    > Vamos agrupar o consumo pelo dia da semana para explorar sazonalidade semanal:"
   ]
  },
  {
   "cell_type": "code",
   "execution_count": null,
   "metadata": {},
   "outputs": [],
   "source": [
    "sns.boxplot(data=opsd_daily, x='Weekday Name', y='Consumption');"
   ]
  },
  {
   "cell_type": "raw",
   "metadata": {},
   "source": [
    "Como esperado, o consumo de energia é significantemente maior nos dias da semana do que nos fins de semana Alguns outliers durante a semana provavelmente são devido a feriados."
   ]
  },
  {
   "cell_type": "markdown",
   "metadata": {},
   "source": [
    "## Frequências"
   ]
  },
  {
   "cell_type": "raw",
   "metadata": {},
   "source": [
    "Quando os dados de uma série temporal são uniformemente espaçados no tempo, ela pode ser associada com a frequência no Pandas. Veja o exemplo:"
   ]
  },
  {
   "cell_type": "code",
   "execution_count": null,
   "metadata": {},
   "outputs": [],
   "source": [
    "pd.date_range('1998-03-10', '1998-03-15', freq='D')"
   ]
  },
  {
   "cell_type": "markdown",
   "metadata": {},
   "source": [
    "Algumas opções de frequenências disponíveis no Pandas são:\n",
    "\n",
    "    - D: diário\n",
    "    - H: de hora em hora\n",
    "    - B: dia de trabalho\n",
    "    - W: ssemanalmente\n",
    "    - M: Mensalmente\n",
    "    - Q: trimestralmente\n",
    "    - Y: Anualmente"
   ]
  },
  {
   "cell_type": "code",
   "execution_count": null,
   "metadata": {},
   "outputs": [],
   "source": [
    "# aqui definimos periods=8, que indica a divisão da freq em periodos sequenciais\n",
    "pd.date_range('2004-09-20', periods=8, freq='H')"
   ]
  },
  {
   "cell_type": "raw",
   "metadata": {},
   "source": [
    "vamos olhar novamente para o index de nossa série temporal:"
   ]
  },
  {
   "cell_type": "code",
   "execution_count": null,
   "metadata": {},
   "outputs": [],
   "source": [
    "opsd_daily.index"
   ]
  },
  {
   "cell_type": "raw",
   "metadata": {},
   "source": [
    "Podemos notar que freq=None, o que faz sentido, já que o index foi criado a partir de uma sequencia de dados do arquivo csv sem explicitar especificamente qualquer frequencia para a série temporal. "
   ]
  },
  {
   "cell_type": "raw",
   "metadata": {},
   "source": [
    "Caso saibamos a frequência dos dados, podemos usar o método asfreq() para atribuir uma frequencia aos dados.Vejamos um exemplo:"
   ]
  },
  {
   "cell_type": "code",
   "execution_count": null,
   "metadata": {},
   "outputs": [],
   "source": [
    "times_sample = pd.to_datetime(['2013-02-03', '2013-02-06', '2013-02-08'])\n",
    "\n",
    "consum_sample = opsd_daily.loc[times_sample, ['Consumption']].copy()\n",
    "consum_sample"
   ]
  },
  {
   "cell_type": "raw",
   "metadata": {},
   "source": [
    "Agora usamos o método asfreq() para converter o DataFrame para frequencia diária com uma coluna contendo dados não preenchidos e outra usando método de preenchimento automático:"
   ]
  },
  {
   "cell_type": "code",
   "execution_count": null,
   "metadata": {},
   "outputs": [],
   "source": [
    "consum_freq = consum_sample.asfreq('D')\n",
    "\n",
    "consum_freq['Consumption - Forward Fill'] = consum_sample.asfreq('D', method='ffill')\n",
    "consum_freq"
   ]
  },
  {
   "cell_type": "markdown",
   "metadata": {},
   "source": [
    "## Reamostragem"
   ]
  },
  {
   "cell_type": "raw",
   "metadata": {},
   "source": [
    "É geralmente útil reamostrar nossa série para uma mais baixa ou mais alta frequência. Reamostragem para uma mais baixa frequência (downsampling) geralmente involve uma operação de agregação (computar venda total mensal a partir de dados diários). Reamostragem para uma frequência mais alta (upsampling) é menos comum e envolve interpolação ou outro método de preenchimento. "
   ]
  },
  {
   "cell_type": "raw",
   "metadata": {},
   "source": [
    "Aqui, vamos nos concentrar em downsampling. O método resample retorna um objeto e, a partir dele, podemos aplicar algum método de agregação, como mean(), median(), sum(), etc. Vejamos:"
   ]
  },
  {
   "cell_type": "code",
   "execution_count": null,
   "metadata": {},
   "outputs": [],
   "source": [
    "# reamostragem monstrando a média semanal\n",
    "data_columns = ['Consumption', 'Wind', 'Solar', 'Wind+Solar']\n",
    "\n",
    "opsd_weekly_mean = opsd_daily[data_columns].resample('W').mean()\n",
    "opsd_weekly_mean.head(3)"
   ]
  },
  {
   "cell_type": "raw",
   "metadata": {},
   "source": [
    "Podemos plotar os dados para comparação:"
   ]
  },
  {
   "cell_type": "code",
   "execution_count": null,
   "metadata": {},
   "outputs": [],
   "source": [
    "start, end = '2017-01', '2017-06'\n",
    "\n",
    "fig, ax = plt.subplots()\n",
    "\n",
    "ax.plot(opsd_daily.loc[start:end, 'Solar'],\n",
    "        marker='.', linestyle='-', linewidth=0.5, label='Daily')\n",
    "\n",
    "ax.plot(opsd_weekly_mean.loc[start:end, 'Solar'],\n",
    "        marker='o', markersize=8, linestyle='-', label='Weekly Mean Resample')\n",
    "\n",
    "ax.set_ylabel('Solar Production (GWh)')\n",
    "ax.legend();"
   ]
  },
  {
   "cell_type": "markdown",
   "metadata": {},
   "source": [
    "## Rolling Windows"
   ]
  },
  {
   "cell_type": "raw",
   "metadata": {},
   "source": [
    "Similar ao downsampling, este método separa os dados em janelas de tempo e os dados em cada janela é agregado com uma função como mean(), sum(), etc. Entretanto, aqui os tempos se sobrepoem e os dados mantem a mesma frequencia da serie original"
   ]
  },
  {
   "cell_type": "raw",
   "metadata": {},
   "source": [
    "Vamos usar o método rolling() para computar uma rolagem média de 7 dias para nossos dados diários. Usamos o atributo center=True para rotular cada janela com seu ponto central. Assim:\n",
    "\n",
    "    - 2006-01-01 a 2006-01-07 — rotulado como 2006-01-04\n",
    "    - 2006-01-02 a 2006-01-08 — rotulado como 2006-01-05\n",
    "    - 2006-01-03 a 2006-01-09 — rotulado como 2006-01-06\n",
    "    - ..."
   ]
  },
  {
   "cell_type": "code",
   "execution_count": null,
   "metadata": {},
   "outputs": [],
   "source": [
    "opsd_7d = opsd_daily[data_columns].rolling(7, center=True).mean()\n",
    "opsd_7d.head(10)"
   ]
  },
  {
   "cell_type": "raw",
   "metadata": {},
   "source": [
    "Para entendermos a diferença entre resampling e rolling windows, vamos atualizar nosso plot anterior com os dados de rolling windows:"
   ]
  },
  {
   "cell_type": "code",
   "execution_count": null,
   "metadata": {},
   "outputs": [],
   "source": [
    "start, end = '2017-01', '2017-06'\n",
    "\n",
    "fig, ax = plt.subplots()\n",
    "\n",
    "ax.plot(opsd_daily.loc[start:end, 'Solar'],\n",
    "        marker='.', linestyle='-', linewidth=0.5, label='Daily')\n",
    "\n",
    "ax.plot(opsd_weekly_mean.loc[start:end, 'Solar'],\n",
    "        marker='o', markersize=8, linestyle='-', label='Weekly Mean Resample')\n",
    "\n",
    "ax.plot(opsd_7d.loc[start:end, 'Solar'],\n",
    "        marker='.', linestyle='-', label='7-d Rolling Mean')\n",
    "\n",
    "ax.set_ylabel('Solar Production (GWh)')\n",
    "ax.legend();"
   ]
  },
  {
   "cell_type": "raw",
   "metadata": {},
   "source": [
    "Podemos ver que os pontos no rolling mean tem o mesmo espaçamento que os dados diários, mas a curva é mais suavizada  porque uma maior variabilidade de frequêcia foi calculada. "
   ]
  },
  {
   "cell_type": "markdown",
   "metadata": {},
   "source": [
    "## Tendência"
   ]
  },
  {
   "cell_type": "raw",
   "metadata": {},
   "source": [
    "Dados de séries temporais freqüentemente exibem alguma variabilidade lenta e gradual, além de maior variabilidade de frequência, como sazonalidade e ruído. Uma simples forma de visualizar essas tendências é utilizar rolling mean com diferentes escalas de tempo"
   ]
  },
  {
   "cell_type": "raw",
   "metadata": {},
   "source": [
    "Uma rolling mean tende a suavizar uma série temporal calculando a média das variações em freqüências muito maiores do que o tamanho da janela e calculando a média de qualquer sazonalidade em uma escala de tempo igual ao tamanho da janela. Isso permite explorar variações de baixa frequência nos dados."
   ]
  },
  {
   "cell_type": "raw",
   "metadata": {},
   "source": [
    "Já que a série temporal possui sazonalidade semanal e anual vamos olhar para essas duas médias moveis nessas duas escalas de tempo"
   ]
  },
  {
   "cell_type": "code",
   "execution_count": null,
   "metadata": {},
   "outputs": [],
   "source": [
    "opsd_365d = opsd_daily[data_columns].rolling(window=365, center=True, min_periods=360).mean()"
   ]
  },
  {
   "cell_type": "code",
   "execution_count": null,
   "metadata": {},
   "outputs": [],
   "source": [
    "# plot diário, média movel de 7 dias e média movel de 365 dias\n",
    "import matplotlib.dates as mdates # visuaalizar linhas de grid verticais\n",
    "fig, ax = plt.subplots()\n",
    "\n",
    "ax.plot(opsd_daily['Consumption'], marker='.', markersize=2, color='0.6',\n",
    "        linestyle='None', label='Daily')\n",
    "\n",
    "ax.plot(opsd_7d['Consumption'], linewidth=2, label='7-d Rolling Mean')\n",
    "\n",
    "ax.plot(opsd_365d['Consumption'], color='0.2', linewidth=3,\n",
    "        label='Trend (365-d Rolling Mean)')\n",
    "\n",
    "ax.xaxis.set_major_locator(mdates.YearLocator())\n",
    "ax.legend()\n",
    "ax.set_xlabel('Year')\n",
    "ax.set_ylabel('Consumption (GWh)')\n",
    "ax.set_title('Trends in Electricity Consumption');"
   ]
  },
  {
   "cell_type": "raw",
   "metadata": {},
   "source": [
    "Podemos ver que a média de 7 dias suavizou toda a sazonalidade semanal, preservando a sazonalidade anual. A média de 7 dias revela que, embora o consumo de eletricidade seja tipicamente maior no inverno e menor no verão, há uma queda dramática de algumas semanas a cada inverno no final de dezembro e início de janeiro, durante os feriados."
   ]
  },
  {
   "cell_type": "raw",
   "metadata": {},
   "source": [
    "Olhando para a série temporal média móvel de 365 dias, podemos ver que a tendência de longo prazo no consumo de eletricidade é bastante plana, com alguns períodos de consumo anormalmente baixo em 2009 e 2012-2013."
   ]
  },
  {
   "cell_type": "raw",
   "metadata": {},
   "source": [
    "Agora vamos olhar a tendência na produção solar e eólica:"
   ]
  },
  {
   "cell_type": "code",
   "execution_count": null,
   "metadata": {},
   "outputs": [],
   "source": [
    "# Plot média móvel de 365 dias de produção de energia solar e eólica\n",
    "fig, ax = plt.subplots()\n",
    "for nm in ['Wind', 'Solar', 'Wind+Solar']:\n",
    "    ax.plot(opsd_365d[nm], label=nm)\n",
    "\n",
    "ax.xaxis.set_major_locator(mdates.YearLocator())\n",
    "ax.set_ylim(0, 400)\n",
    "ax.legend()\n",
    "ax.set_ylabel('Production (GWh)')\n",
    "ax.set_title('Trends in Electricity Production (365-d Rolling Means)');"
   ]
  },
  {
   "cell_type": "raw",
   "metadata": {},
   "source": [
    "Podemos ver uma pequena tendência crescente na produção de energia solar e uma grande tendência crescente na produção de energia eólica, já que a Alemanha continua a expandir sua capacidade nesses setores."
   ]
  },
  {
   "cell_type": "markdown",
   "metadata": {},
   "source": [
    "## Leituras adicionais:\n",
    "    - https://jakevdp.github.io/PythonDataScienceHandbook/03.11-working-with-time-series.html\n",
    "    - https://pandas.pydata.org/pandas-docs/stable/user_guide/timeseries.html\n",
    "    - https://www.kaggle.com/thebrownviking20/everything-you-can-do-with-a-time-series"
   ]
  },
  {
   "cell_type": "code",
   "execution_count": null,
   "metadata": {},
   "outputs": [],
   "source": []
  }
 ],
 "metadata": {
  "kernelspec": {
   "display_name": "Python 3",
   "language": "python",
   "name": "python3"
  },
  "language_info": {
   "codemirror_mode": {
    "name": "ipython",
    "version": 3
   },
   "file_extension": ".py",
   "mimetype": "text/x-python",
   "name": "python",
   "nbconvert_exporter": "python",
   "pygments_lexer": "ipython3",
   "version": "3.7.5"
  }
 },
 "nbformat": 4,
 "nbformat_minor": 4
}
