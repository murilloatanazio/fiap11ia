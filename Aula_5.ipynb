{
 "cells": [
  {
   "cell_type": "markdown",
   "metadata": {},
   "source": [
    "# Visualização de Dados"
   ]
  },
  {
   "cell_type": "markdown",
   "metadata": {},
   "source": [
    "## Matplotlib\n",
    "\n",
    "A documentação pode ser acessada através do link: [matplotlib](https://matplotlib.org/)"
   ]
  },
  {
   "cell_type": "code",
   "execution_count": null,
   "metadata": {},
   "outputs": [],
   "source": [
    "import matplotlib.pyplot as plt\n",
    "fig = plt.figure()\n",
    "ax1 = fig.add_subplot(2, 2, 1)\n",
    "ax2 = fig.add_subplot(2, 2, 2)\n",
    "ax3 = fig.add_subplot(2, 2, 3)"
   ]
  },
  {
   "cell_type": "code",
   "execution_count": null,
   "metadata": {},
   "outputs": [],
   "source": [
    "import numpy as np\n",
    "from numpy.random import randn\n",
    "ax1.plot(randn(50).cumsum(), 'k--')\n",
    "ax2.hist(randn(100), bins=20, color='k', alpha=0.3)\n",
    "ax3.scatter(np.arange(30), np.arange(30) + 3 * randn(30))\n",
    "fig"
   ]
  },
  {
   "cell_type": "code",
   "execution_count": null,
   "metadata": {},
   "outputs": [],
   "source": [
    "x = np.linspace(0, 2, 100)\n",
    "plt.plot(x, x, label='linear')\n",
    "plt.plot(x, x**2, label='quadratic')\n",
    "plt.plot(x, x**3, label='cubic')\n",
    "\n",
    "plt.xlabel('x label')\n",
    "plt.ylabel('y label')\n",
    "plt.title(\"Simple Plot\")\n",
    "\n",
    "plt.legend()\n",
    "plt.show()"
   ]
  },
  {
   "cell_type": "code",
   "execution_count": null,
   "metadata": {},
   "outputs": [],
   "source": [
    "plt.plot(randn(30).cumsum(), color='r', linestyle='dashed', marker='+')"
   ]
  },
  {
   "cell_type": "code",
   "execution_count": null,
   "metadata": {},
   "outputs": [],
   "source": [
    "fig = plt.figure(); ax = fig.add_subplot(1, 1, 1)\n",
    "ax.plot(randn(1000).cumsum())\n",
    "ticks = ax.set_xticks([0, 250, 500, 750, 1000])\n",
    "labels = ax.set_xticklabels(['one', 'two', 'three', 'four', 'five'],\n",
    "                            rotation=30, fontsize='small')\n",
    "ax.set_title('My matplotlib plot')\n",
    "ax.set_xlabel('Stages')"
   ]
  },
  {
   "cell_type": "code",
   "execution_count": null,
   "metadata": {},
   "outputs": [],
   "source": [
    "fig = plt.figure(); ax = fig.add_subplot(1, 1, 1)\n",
    "ax.plot(randn(100).cumsum(), 'k', label='one')\n",
    "ax.plot(randn(100).cumsum(), 'k--', label='two')\n",
    "ax.plot(randn(100).cumsum(), 'k.', label='three')\n",
    "ax.legend(loc='best')"
   ]
  },
  {
   "cell_type": "markdown",
   "metadata": {},
   "source": [
    "### Tipos de Gráficos - Matploblit"
   ]
  },
  {
   "cell_type": "code",
   "execution_count": null,
   "metadata": {},
   "outputs": [],
   "source": [
    "#barra\n",
    "from matplotlib.ticker import FuncFormatter\n",
    "x = np.arange(4)\n",
    "money = [1.5e5, 2.5e6, 5.5e6, 2.0e7]\n",
    "def millions(x, pos):\n",
    "    'valor e posição'\n",
    "    return '$%1.1fM' % (x * 1e-6)\n",
    "formatter = FuncFormatter(millions)\n",
    "\n",
    "fig, ax = plt.subplots()\n",
    "ax.yaxis.set_major_formatter(formatter)\n",
    "plt.bar(x, money)\n",
    "plt.xticks(x, ('Bill', 'Fred', 'Mary', 'Sue'))\n",
    "plt.show()"
   ]
  },
  {
   "cell_type": "code",
   "execution_count": null,
   "metadata": {},
   "outputs": [],
   "source": [
    "# Cuidado ao criar gráfico de barras\n",
    "\n",
    "mentions = [500, 505]\n",
    "years = [2013, 2014]\n",
    "plt.bar([2012.6, 2013.6], mentions, 0.8)\n",
    "plt.xticks(years)\n",
    "plt.ylabel(\"# of times I heard someone say 'data science'\")\n",
    "\n",
    "# misleading y-axis only shows the part above 500\n",
    "plt.axis([2012.5,2014.5,499,506])\n",
    "plt.title(\"Look at the 'Huge' Increase!\")\n",
    "plt.show()"
   ]
  },
  {
   "cell_type": "code",
   "execution_count": null,
   "metadata": {},
   "outputs": [],
   "source": [
    "mentions = [500, 505]\n",
    "years = [2013, 2014]\n",
    "plt.bar([2012.6, 2013.6], mentions, 0.8)\n",
    "plt.xticks(years)\n",
    "plt.ylabel(\"# of times I heard someone say 'data science'\")\n",
    "\n",
    "# misleading y-axis only shows the part above 500\n",
    "plt.axis([2012.5,2014.5,0,550])\n",
    "plt.title(\"Not so Huge Anymore\")\n",
    "plt.show()"
   ]
  },
  {
   "cell_type": "code",
   "execution_count": null,
   "metadata": {},
   "outputs": [],
   "source": [
    "#histograma\n",
    "np.random.seed(19680801)\n",
    "\n",
    "mu, sigma = 100, 15\n",
    "x = mu + sigma * np.random.randn(10000)\n",
    "\n",
    "plt.hist(x, density=True, facecolor='g', alpha=0.75)\n",
    "\n",
    "\n",
    "plt.xlabel('Smarts')\n",
    "plt.ylabel('Probability')\n",
    "plt.title('Histogram of IQ')\n",
    "plt.text(60, .025, r'$\\mu=' + str(mu) + ',\\ \\sigma=15$')\n",
    "plt.axis([40, 160, 0, 0.03])\n",
    "plt.grid(True)\n",
    "plt.show()"
   ]
  },
  {
   "cell_type": "code",
   "execution_count": null,
   "metadata": {},
   "outputs": [],
   "source": [
    "# barra empilhada\n",
    "N = 5\n",
    "menMeans = (20, 35, 30, 35, 27)\n",
    "womenMeans = (25, 32, 34, 20, 25)\n",
    "menStd = (2, 3, 4, 1, 2)\n",
    "womenStd = (3, 5, 2, 3, 3)\n",
    "ind = np.arange(N)    \n",
    "width = 0.35       # largura das barras\n",
    "\n",
    "p1 = plt.bar(ind, menMeans, width, yerr=menStd)\n",
    "p2 = plt.bar(ind, womenMeans, width,\n",
    "             bottom=menMeans, yerr=womenStd)\n",
    "\n",
    "plt.ylabel('Scores')\n",
    "plt.title('Scores por grupo e sexo')\n",
    "plt.xticks(ind, ('G1', 'G2', 'G3', 'G4', 'G5'))\n",
    "plt.yticks(np.arange(0, 81, 10))\n",
    "plt.legend((p1[0], p2[0]), ('Homem', 'Mulher'))\n",
    "\n",
    "plt.show()"
   ]
  },
  {
   "cell_type": "code",
   "execution_count": null,
   "metadata": {},
   "outputs": [],
   "source": [
    "#Scatter-plot\n",
    "pontos_f = [89, 90, 70, 89, 100, 80, 90, 100, 80, 34]\n",
    "pontos_m = [30, 29, 49, 48, 100, 48, 38, 45, 20, 30]\n",
    "range_pontos = [10, 20, 30, 40, 50, 60, 70, 80, 90, 100]\n",
    "feminino = plt.scatter(range_pontos, pontos_f, color='r')\n",
    "masculino = plt.scatter(range_pontos, pontos_m, color='g')\n",
    "plt.xlabel('Range de Pontos')\n",
    "plt.ylabel('Pontos')\n",
    "plt.legend((feminino, masculino),('feminino','masculino'),loc='best')\n",
    "plt.show()"
   ]
  },
  {
   "cell_type": "code",
   "execution_count": null,
   "metadata": {},
   "outputs": [],
   "source": [
    "#Box plot\n",
    "np.random.seed(19680801)\n",
    "\n",
    "#criando dados fictícios\n",
    "spread = np.random.rand(50) * 100\n",
    "center = np.ones(25) * 50\n",
    "flier_high = np.random.rand(10) * 100 + 100\n",
    "flier_low = np.random.rand(10) * -100\n",
    "data = np.concatenate((spread, center, flier_high, flier_low))\n",
    "fig1, ax1 = plt.subplots()\n",
    "ax1.set_title('Basic Plot')\n",
    "ax1.boxplot(data)"
   ]
  },
  {
   "cell_type": "markdown",
   "metadata": {},
   "source": [
    "## TODO Section"
   ]
  },
  {
   "cell_type": "markdown",
   "metadata": {},
   "source": [
    "#### Usando o dataset Pokemon.csv, resolva as seguintes questões:\n",
    "\n",
    "    1) crie uma função que receba o dataset e o atributo e retorne um histograma que mostre a distribuição do valor dos atributos “attack”, “defense”,”Sp.Atk”, “Sp.Def” e “Speed”. Insira uma linha indicando o valor médio do atributo.\n",
    "    \n",
    "    2) crie um scatter plot comparando ataque (eixo x) e defesa (eixo y) de pokemons dos tipos Fire e Water.\n",
    "    \n",
    "    3) crie um gráfico de linha para comparar a quantidade de pokemons de cada tipo ao longo das gerações"
   ]
  },
  {
   "cell_type": "code",
   "execution_count": null,
   "metadata": {},
   "outputs": [],
   "source": [
    "# resposta 1\n"
   ]
  },
  {
   "cell_type": "code",
   "execution_count": null,
   "metadata": {},
   "outputs": [],
   "source": [
    "# resposta 2\n"
   ]
  },
  {
   "cell_type": "code",
   "execution_count": null,
   "metadata": {},
   "outputs": [],
   "source": [
    "# resposta 3"
   ]
  },
  {
   "cell_type": "markdown",
   "metadata": {},
   "source": [
    "## Altair\n",
    "\n",
    "Para consultar a documentação oficial, clique [aqui](https://altair-viz.github.io/)"
   ]
  },
  {
   "cell_type": "code",
   "execution_count": null,
   "metadata": {},
   "outputs": [],
   "source": [
    "import pandas as pd\n",
    "data = pd.DataFrame({'a': list('CCCDDDEEE'),\n",
    "                     'b': [2, 7, 4, 1, 2, 6, 8, 4, 7]})"
   ]
  },
  {
   "cell_type": "code",
   "execution_count": null,
   "metadata": {},
   "outputs": [],
   "source": [
    "import altair as alt\n",
    "chart = alt.Chart(data)"
   ]
  },
  {
   "cell_type": "code",
   "execution_count": null,
   "metadata": {},
   "outputs": [],
   "source": [
    "alt.Chart(data).mark_point()"
   ]
  },
  {
   "cell_type": "code",
   "execution_count": null,
   "metadata": {},
   "outputs": [],
   "source": [
    "alt.Chart(data).mark_point().encode(\n",
    "    x='a',\n",
    ")"
   ]
  },
  {
   "cell_type": "code",
   "execution_count": null,
   "metadata": {},
   "outputs": [],
   "source": [
    "alt.Chart(data).mark_point().encode(\n",
    "    x='a',\n",
    "    y='b'\n",
    ")"
   ]
  },
  {
   "cell_type": "code",
   "execution_count": null,
   "metadata": {},
   "outputs": [],
   "source": [
    "alt.Chart(data).mark_bar().encode(\n",
    "    y='a',\n",
    "    x='average(b)'\n",
    ")"
   ]
  },
  {
   "cell_type": "code",
   "execution_count": null,
   "metadata": {},
   "outputs": [],
   "source": [
    "alt.Chart(data).mark_bar(color='firebrick').encode(\n",
    "    alt.Y('a', axis=alt.Axis(title='category')),\n",
    "    alt.X('average(b)', axis=alt.Axis(title='avg(b) by category'))\n",
    ")"
   ]
  },
  {
   "cell_type": "code",
   "execution_count": null,
   "metadata": {},
   "outputs": [],
   "source": [
    "ex = alt.Chart(data).mark_bar(color='firebrick').encode(\n",
    "    alt.Y('a', axis=alt.Axis(title='category')),\n",
    "    alt.X('average(b)', axis=alt.Axis(title='avg(b) by category'))\n",
    ")\n",
    "\n",
    "ex.save('exemplo.png')"
   ]
  },
  {
   "cell_type": "code",
   "execution_count": null,
   "metadata": {},
   "outputs": [],
   "source": [
    "text = \"\"\"\n",
    "O interesse de Ada pela ciência aplicada foi ainda mais estimulado quando ela conheceu uma das poucas mulheres que havia se tornado \n",
    "conhecida na matemática e na ciência britânicas, Mary Somerville. Somerville tinha acabado de escrever uma de suas grandes obras, \n",
    "On the Connexion of the Physical Sciences, em que ligava desenvolvimentos da astronomia, da óptica, da eletricidade, da química, da física, \n",
    "da botânica e da geologia. Emblemático de seu tempo, o livro fornecia uma percepção unifi cada dos extraordinários esforços de descoberta que \n",
    "estavam sendo feitos. Ela proclamava em sua primeira frase: “O progresso da ciência moderna, sobretudo nos últimos cinco anos, tem sido \n",
    "impressionante em razão de uma tendência a simplifi car as leis da natureza e a unir ramos distintos por meio de princípios gerais”. \n",
    "\"\"\""
   ]
  },
  {
   "cell_type": "code",
   "execution_count": null,
   "metadata": {},
   "outputs": [],
   "source": [
    "import numpy as np\n",
    "import pandas as pd\n",
    "import altair as alt\n",
    "data = pd.DataFrame(\n",
    "    {'letras': np.array([c for c in text if c.isalpha()])}\n",
    ")\n",
    "\n",
    "alt.Chart(data).transform_aggregate(\n",
    "    count='count()',\n",
    "    groupby=['letras']\n",
    ").transform_window(\n",
    "    rank='rank(count)',\n",
    "    sort=[alt.SortField('count', order='descending')]\n",
    ").transform_filter(\n",
    "    alt.datum.rank < 6\n",
    ").mark_bar().encode(\n",
    "    y=alt.Y('letras:N',\n",
    "        sort=alt.EncodingSortField(field='count', op='sum', order='descending')\n",
    "    ),\n",
    "    x='count:Q',\n",
    "    color=alt.Color('letras')\n",
    ")"
   ]
  },
  {
   "cell_type": "code",
   "execution_count": null,
   "metadata": {},
   "outputs": [],
   "source": [
    "from vega_datasets import data\n",
    "stocks = data.stocks()\n",
    "print(len(stocks))\n",
    "print(stocks['symbol'].unique())\n",
    "stocks.head()"
   ]
  },
  {
   "cell_type": "code",
   "execution_count": null,
   "metadata": {},
   "outputs": [],
   "source": [
    "alt.Chart(stocks).mark_line().encode(\n",
    "    x='date',\n",
    "    y='price',\n",
    "    color='symbol'\n",
    ")"
   ]
  },
  {
   "cell_type": "code",
   "execution_count": null,
   "metadata": {},
   "outputs": [],
   "source": [
    "from vega_datasets import data"
   ]
  },
  {
   "cell_type": "code",
   "execution_count": null,
   "metadata": {},
   "outputs": [],
   "source": [
    "iowa = data.iowa_electricity()\n",
    "print(iowa['source'].unique())\n",
    "iowa.head()"
   ]
  },
  {
   "cell_type": "code",
   "execution_count": null,
   "metadata": {},
   "outputs": [],
   "source": [
    "alt.Chart(iowa).mark_area(opacity=0.3).encode(\n",
    "    x=\"year:T\",\n",
    "    y=alt.Y(\"net_generation:Q\", stack=None),\n",
    "    color=\"source:N\"\n",
    ")"
   ]
  },
  {
   "cell_type": "code",
   "execution_count": null,
   "metadata": {},
   "outputs": [],
   "source": [
    "temps = data.seattle_temps()\n",
    "print(len(temps))\n",
    "temps.head()"
   ]
  },
  {
   "cell_type": "code",
   "execution_count": null,
   "metadata": {},
   "outputs": [],
   "source": [
    "temps = temps[temps.date < '2010-01-15']\n",
    "\n",
    "alt.Chart(temps).mark_line().encode(\n",
    "    x='date:T',\n",
    "    y='temp:Q'\n",
    ")"
   ]
  },
  {
   "cell_type": "code",
   "execution_count": null,
   "metadata": {},
   "outputs": [],
   "source": [
    "alt.Chart(temps).mark_rect().encode(\n",
    "    alt.X('hoursminutes(date):O', title='hour of day'),\n",
    "    alt.Y('monthdate(date):O', title='date'),\n",
    "    alt.Color('temp:Q', title='temperature (F)'))"
   ]
  },
  {
   "cell_type": "markdown",
   "metadata": {},
   "source": [
    "## TODO Section"
   ]
  },
  {
   "cell_type": "markdown",
   "metadata": {},
   "source": [
    "#### Utilizando o vega_datasets e o dataset Pokemon.csv, resolva as seguintes questões:\n",
    "\n",
    "    1) Faça um rank bar dos 5 primeiros estados dos EUA com maior número de aeroportos. (Use o dataset airports)\n",
    "    \n",
    "    2) Crie dois gráficos scatter, chart1 e chart2. Para o chart1, x=petalLenght, y=petalWidth. Para o chart2, x = sepalLenght, y=sepalWidth. Componha esses gráficos numa única apresentação. Para isso, faça chart1 | chart2. (Use o dataset iris)\n",
    "    \n",
    "    3) Utilizando o dataset Pokemon, crie um gráfico de barras que mostre, para cada geração, a proporção de pokemons Lendários e aqueles que não são lendários. Use stacked bar. "
   ]
  },
  {
   "cell_type": "code",
   "execution_count": null,
   "metadata": {},
   "outputs": [],
   "source": [
    "# resposta 1\n"
   ]
  },
  {
   "cell_type": "code",
   "execution_count": null,
   "metadata": {},
   "outputs": [],
   "source": [
    "# resposta 2\n"
   ]
  },
  {
   "cell_type": "code",
   "execution_count": null,
   "metadata": {},
   "outputs": [],
   "source": [
    "# resposta 3\n"
   ]
  }
 ],
 "metadata": {
  "kernelspec": {
   "display_name": "Python 3",
   "language": "python",
   "name": "python3"
  },
  "language_info": {
   "codemirror_mode": {
    "name": "ipython",
    "version": 3
   },
   "file_extension": ".py",
   "mimetype": "text/x-python",
   "name": "python",
   "nbconvert_exporter": "python",
   "pygments_lexer": "ipython3",
   "version": "3.7.5"
  }
 },
 "nbformat": 4,
 "nbformat_minor": 4
}
